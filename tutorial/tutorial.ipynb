{
 "cells": [
  {
   "cell_type": "code",
   "execution_count": 1,
   "id": "3b2e3bea-fb0a-4f76-beae-9284aff57c60",
   "metadata": {},
   "outputs": [],
   "source": [
    "import ConfinedBrownianAnalysis as cb\n"
   ]
  },
  {
   "cell_type": "code",
   "execution_count": 2,
   "id": "9d4fd20f-65aa-4809-8b3e-bddb5fd51372",
   "metadata": {},
   "outputs": [],
   "source": [
    "# from Data_analysis import Data_analysis\n",
    "# from Dedrift import Dedrift\n",
    "# from Data import Data\n",
    "import matplotlib.pyplot as plt\n",
    "\n",
    "import seaborn\n",
    "import seaborn as sns\n",
    "\n",
    "\n",
    "%matplotlib widget\n",
    "\n",
    "custom_params = {\n",
    "    \"xtick.direction\": \"in\",\n",
    "    \"ytick.direction\": \"in\",\n",
    "    \"lines.markeredgecolor\": \"k\",\n",
    "    \"lines.markeredgewidth\": 1,\n",
    "    \"figure.dpi\": 100,\n",
    "    \"text.usetex\": False,\n",
    "    \"font.family\": \"serif\",\n",
    "}\n",
    "sns.set_theme(context=\"notebook\", style=\"ticks\", rc=custom_params)"
   ]
  },
  {
   "cell_type": "code",
   "execution_count": 3,
   "id": "c00f6b59-b340-4c8a-b145-e2acccb97984",
   "metadata": {},
   "outputs": [],
   "source": [
    "load_observables = True\n",
    "save_observable = False\n",
    "filename = \"Observables.pickle\""
   ]
  },
  {
   "cell_type": "code",
   "execution_count": 4,
   "id": "7cd7b0a6-4f12-4885-a32e-bea685fad79a",
   "metadata": {},
   "outputs": [],
   "source": [
    "if load_observables:\n",
    "        analysis = cb.Load(filename)"
   ]
  },
  {
   "cell_type": "code",
   "execution_count": 5,
   "id": "4bc31989-063f-4b47-8380-1470dc1d2005",
   "metadata": {},
   "outputs": [],
   "source": [
    "# data = cb.Data(file=\"example_trajectory.mat\", fps=100, cutoff=120000)"
   ]
  },
  {
   "cell_type": "code",
   "execution_count": 6,
   "id": "9addf8ef-b248-4094-86ca-e961dd5fb885",
   "metadata": {},
   "outputs": [],
   "source": [
    "# plt.figure()\n",
    "# plt.plot(data.z)\n",
    "# plt.show()"
   ]
  },
  {
   "cell_type": "code",
   "execution_count": 7,
   "id": "ae78158e-e982-4f60-9c03-c41f82a3407c",
   "metadata": {},
   "outputs": [],
   "source": [
    "# args = {\n",
    "#     \"MSD_bins\": 100,  # Number of PDF bins\n",
    "#     \"t_LMSD\": (20.0, 25),  # Time used to compute the plateau\n",
    "#     \"t_sPDF\": (0.01, 0.05),  # Short time PDF dispalcement\n",
    "#     \"range_pdf\": (1e-8, 2.5e-6),  # Range of the height PDF\n",
    "#     \"num_pdf\": 70,  # number of bins in the height PDF\n",
    "#     \"range_F_eq\": (2e-8, 2e-6),\n",
    "#     \"num_F_eq\": 20,\n",
    "#     \"SPDF_bins\": 40,  # Short time PDF bins\n",
    "#     \"t_Lpdf\": (18.0, 20.0),  # time for the long time PDF\n",
    "#     \"range_D\": (1e-9, 2e-6),  # range of computation of Ronceray\n",
    "#     \"N_local_D\": 200,  # mber of points for the diffusion computation\n",
    "#     \"ordre_D\": 2,  # Ronceray polynomial order\n",
    "#     \"LPDF_bins\": 50,  # number of bins in the long time PDF\n",
    "# }"
   ]
  },
  {
   "cell_type": "code",
   "execution_count": 8,
   "id": "49216f4f-8c22-4ce5-ab7f-9aa44b4bd357",
   "metadata": {},
   "outputs": [],
   "source": [
    "# data.dedrift(window=5000)\n",
    "# if not load_observables:\n",
    "#     analysis = cb.Observables(data, **args)"
   ]
  },
  {
   "cell_type": "code",
   "execution_count": null,
   "id": "49d77afa-a9c3-4731-99a7-2ba6985fc7c5",
   "metadata": {},
   "outputs": [],
   "source": []
  },
  {
   "cell_type": "code",
   "execution_count": 9,
   "id": "2d46f90e-0cef-4fe2-bd76-a219bdc3b0b6",
   "metadata": {},
   "outputs": [],
   "source": [
    "# data.plot_1D(\"z\")"
   ]
  },
  {
   "cell_type": "code",
   "execution_count": 10,
   "id": "90060456-97c6-4fa8-b6b3-af655e9977d6",
   "metadata": {},
   "outputs": [],
   "source": [
    "if not load_observables:\n",
    "    analysis.computing_all()"
   ]
  },
  {
   "cell_type": "code",
   "execution_count": 11,
   "id": "8808fca1-4b3c-4146-b238-045bdbe8ddd4",
   "metadata": {},
   "outputs": [],
   "source": [
    "# analysis.general_plot()"
   ]
  },
  {
   "cell_type": "code",
   "execution_count": 12,
   "id": "9e7f5293-3b77-4aba-9128-fc8685b5d5c7",
   "metadata": {},
   "outputs": [],
   "source": [
    "if save_observable:\n",
    "        analysis.save(filename)\n"
   ]
  },
  {
   "cell_type": "code",
   "execution_count": 13,
   "id": "dd015ebf-a71c-4c99-b8b8-0cf649d2591b",
   "metadata": {},
   "outputs": [],
   "source": [
    "## test to reload it\n"
   ]
  },
  {
   "cell_type": "markdown",
   "id": "88f00e55-7781-4f0d-a898-666679fc4f7f",
   "metadata": {},
   "source": [
    "## Minizer"
   ]
  },
  {
   "cell_type": "code",
   "execution_count": 14,
   "id": "50d9b720-d0a8-417c-963e-9a49a81240fc",
   "metadata": {},
   "outputs": [],
   "source": [
    "Model = cb.Model()"
   ]
  },
  {
   "cell_type": "code",
   "execution_count": null,
   "id": "bacca556-bcd3-46f6-8c55-a9daab7dc006",
   "metadata": {},
   "outputs": [],
   "source": []
  },
  {
   "cell_type": "code",
   "execution_count": 15,
   "id": "36507a0a-700a-432f-9aca-377725ee1e42",
   "metadata": {},
   "outputs": [],
   "source": [
    "args_minimizer = {\n",
    "    \"Model\": Model,\n",
    "    \"analysis\": analysis,\n",
    "    \"range_MSD_short\": (1e-2, 1),\n",
    "    \"range_plateau_MSD\": (1e-2, 1e-1),\n",
    "    \"range_C4_short\": (1e-2, 1e-1),\n",
    "    \"range_diffusion\": None,\n",
    "    \"range_Peq\": None,\n",
    "    \"range_Feq\": None,\n",
    "}"
   ]
  },
  {
   "cell_type": "code",
   "execution_count": 16,
   "id": "d98b6356-85e8-4ac3-989d-ece36bd1e012",
   "metadata": {},
   "outputs": [
    {
     "data": {
      "text/plain": [
       "<ConfinedBrownianAnalysis.Analyse.Observables.Observables at 0x1a5c49802e0>"
      ]
     },
     "execution_count": 16,
     "metadata": {},
     "output_type": "execute_result"
    }
   ],
   "source": [
    "analysis"
   ]
  },
  {
   "cell_type": "code",
   "execution_count": 17,
   "id": "8475607b-01f2-4466-9978-416b54b17d1e",
   "metadata": {},
   "outputs": [],
   "source": [
    "import numpy as np\n",
    "dz = np.linspace(-5e-6, 5e-6, 10000)"
   ]
  },
  {
   "cell_type": "code",
   "execution_count": 18,
   "id": "7a570aa6-2f26-4773-b15a-a0b500f0b67d",
   "metadata": {},
   "outputs": [],
   "source": [
    "#Model.plateau_MSD()\n",
    "P_Dz = Model.long_time_pdf(dz)"
   ]
  },
  {
   "cell_type": "code",
   "execution_count": 19,
   "id": "f42dc1b8-fe6f-467e-9e58-8b95d9fdc8ab",
   "metadata": {},
   "outputs": [],
   "source": [
    "Minimizer = cb.Minimizer(**args_minimizer)"
   ]
  },
  {
   "cell_type": "code",
   "execution_count": 20,
   "id": "cf6ec775-4c05-4edd-a009-fc50abd406d3",
   "metadata": {},
   "outputs": [],
   "source": [
    "minimizer = Minimizer.available_minimizer"
   ]
  },
  {
   "cell_type": "code",
   "execution_count": 23,
   "id": "90642b2c-4797-4460-9435-cfd55213a6ad",
   "metadata": {},
   "outputs": [
    {
     "name": "stdout",
     "output_type": "stream",
     "text": [
      "Computing minimizer_MSD_short_time\n",
      "minimizer_MSD_short_time = 0.4968675601604994\n",
      "Computing minimizer_plateau_MSD\n",
      "minimizer_plateau_MSD = 2.009125131511113e-11\n",
      "Computing minimizer_C4_short_time\n",
      "minimizer_C4_short_time = 27.0\n",
      "Computing minimizer_plateau_C4\n",
      "minimizer_plateau_C4 = -0.00020557501172496957\n",
      "Computing minimizer_diffusion\n",
      "minimizer_diffusion = 599.9999999997573\n",
      "Computing minimizer_Peq\n",
      "minimizer_Peq = 1.6372741958261998\n",
      "Computing minimizer_long_time_PDF\n",
      "minimizer_long_time_PDF = 3.9915540284801496\n",
      "Computing minimizer_short_time_PDF\n",
      "minimizer_short_time_PDF = 127454828.33498257\n",
      "Computing minimizer_F_eq\n",
      "minimizer_F_eq = 5.071029466389256\n",
      "everthing works ! At least without any error ...\n",
      "Total minimizer = 127455466.53150225\n"
     ]
    }
   ],
   "source": [
    "tot = 0\n",
    "for i in minimizer:\n",
    "    print(\"Computing \" + i)\n",
    "    err = getattr(Minimizer, i)()\n",
    "    print(i + \" = \" + str(err))\n",
    "    tot += err\n",
    "print(\"everthing works ! At least without any error ...\")\n",
    "print(\"Total minimizer = \" + str(tot))"
   ]
  },
  {
   "cell_type": "code",
   "execution_count": null,
   "id": "84d4f172-929d-46b2-9884-586ba20b9468",
   "metadata": {},
   "outputs": [],
   "source": []
  }
 ],
 "metadata": {
  "kernelspec": {
   "display_name": "Python 3 (ipykernel)",
   "language": "python",
   "name": "python3"
  },
  "language_info": {
   "codemirror_mode": {
    "name": "ipython",
    "version": 3
   },
   "file_extension": ".py",
   "mimetype": "text/x-python",
   "name": "python",
   "nbconvert_exporter": "python",
   "pygments_lexer": "ipython3",
   "version": "3.10.6"
  }
 },
 "nbformat": 4,
 "nbformat_minor": 5
}
